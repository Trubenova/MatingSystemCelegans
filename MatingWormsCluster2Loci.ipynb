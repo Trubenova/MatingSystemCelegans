{
 "cells": [
  {
   "cell_type": "code",
   "execution_count": 1,
   "metadata": {},
   "outputs": [],
   "source": [
    "import numpy as np\n",
    "import matplotlib.pyplot as plt\n",
    "import WormFunctionsMating as wrm\n",
    "\n",
    "from importlib import reload \n",
    "import sys"
   ]
  },
  {
   "cell_type": "code",
   "execution_count": 3,
   "metadata": {},
   "outputs": [],
   "source": [
    "print ('argument list', sys.argv)\n",
    "index = int(sys.argv[1])\n"
   ]
  },
  {
   "cell_type": "code",
   "execution_count": 4,
   "metadata": {},
   "outputs": [
    {
     "name": "stdout",
     "output_type": "stream",
     "text": [
      "0.1\n"
     ]
    }
   ],
   "source": [
    "par = int(index / 100)\n",
    "it = index % 100\n",
    "\n",
    "sex_asex_reproduction_ratio=par/10.0\n",
    "\n",
    "\n",
    "print (sex_asex_reproduction_ratio)\n",
    "N=200   # population size\n",
    "\n",
    "\n",
    "name='WormsT500'\n",
    "loci=2   # number of loci\n",
    "\n",
    "\n",
    "dominance = 0  #0 for recessive, 1 for dominant, in between possible\n",
    "epistasis=0\n",
    "\n",
    "sub_name=name+'N'+str(N)+'L'+str(loci)+'E'+str(epistasis)+'X'+str(sex_asex_reproduction_ratio)+'D'+str(dominance)\n",
    "\n",
    "\n",
    "cost_vector=[0.05, 0.05]\n",
    "benefit_vector=[0.5,0.5]\n",
    "\n",
    "\n",
    "#-------------\n",
    "initial_male_fraction=0.5\n",
    "mutation_rate=0.0001  #carefull with this - this is per genome, not locus! Is divided by \n",
    "concentration_gradient=[0.0000,0.1,0.2,0.4,0.8,1,1.5,2,2.5,3,4,5,6,8,10,12,15, 18, 21, 24, 27, 30, 35, 40, 45,50,65,70]\n",
    "mean_selfing_offspring_num=300\n",
    "mean_sexrep_offspring_num=1000\n",
    "\n",
    "cycle_length=4\n",
    "cycle_number=len(concentration_gradient)\n",
    "\n",
    "increase_determinant=20  #how much do we need to increase pop size in order to procees. \n",
    "\n",
    "\n",
    "utility_function=wrm.Utility(loci, dominance, cost_vector,benefit_vector, max(concentration_gradient))\n"
   ]
  },
  {
   "cell_type": "code",
   "execution_count": 7,
   "metadata": {},
   "outputs": [],
   "source": [
    "wrm=reload(wrm)\n",
    "this_name=sub_name+'_i'+str(it)\n",
    "worm_population=wrm.Worm_population_stochastic(N,loci=loci,cost_vector=cost_vector,benefit_vector=benefit_vector,dominance=dominance, mutation_rate=mutation_rate, initial_male_fraction=initial_male_fraction, mean_selfing_offspring_num=mean_selfing_offspring_num, mean_sexrep_offspring_num=mean_sexrep_offspring_num, sex_asex_reproduction_ratio=sex_asex_reproduction_ratio)\n",
    "experiment=wrm.Experiment_stochastic(worm_population, concentration_gradient=concentration_gradient, cycle_length=cycle_length,  increase_determinant=increase_determinant)\n",
    "experiment.run_Jacquelines_experiment(worm_population)\n",
    "experiment.save_output(worm_population, name='DataArticle/'+this_name)\n",
    "\n",
    "if index==0:\n",
    "    utility_function.print_input_data(worm_population, experiment, name='DataArticle/InputData/'+sub_name)\n",
    "\n",
    "#print ('all done')"
   ]
  },
  {
   "cell_type": "code",
   "execution_count": null,
   "metadata": {},
   "outputs": [],
   "source": []
  }
 ],
 "metadata": {
  "kernelspec": {
   "display_name": "Python 3",
   "language": "python",
   "name": "python3"
  },
  "language_info": {
   "codemirror_mode": {
    "name": "ipython",
    "version": 3
   },
   "file_extension": ".py",
   "mimetype": "text/x-python",
   "name": "python",
   "nbconvert_exporter": "python",
   "pygments_lexer": "ipython3",
   "version": "3.8.3"
  }
 },
 "nbformat": 4,
 "nbformat_minor": 4
}
