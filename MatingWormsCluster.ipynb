{
 "cells": [
  {
   "cell_type": "code",
   "execution_count": 1,
   "metadata": {},
   "outputs": [],
   "source": [
    "import numpy as np\n",
    "import matplotlib.pyplot as plt\n",
    "import WormFunctionsMating as wrm\n",
    "\n",
    "from importlib import reload \n",
    "import sys"
   ]
  },
  {
   "cell_type": "code",
   "execution_count": 2,
   "metadata": {},
   "outputs": [
    {
     "name": "stdout",
     "output_type": "stream",
     "text": [
      "argument list ['/Users/barbora/miniconda3/lib/python3.8/site-packages/ipykernel_launcher.py', '-f', '/Users/barbora/Library/Jupyter/runtime/kernel-3eb506f1-c68d-4d67-b723-3f92f31fab9b.json']\n"
     ]
    }
   ],
   "source": [
    "print ('argument list', sys.argv)\n",
    "index = int(sys.argv[1])"
   ]
  },
  {
   "cell_type": "code",
   "execution_count": 3,
   "metadata": {},
   "outputs": [],
   "source": [
    "par = int(index / 100)\n",
    "it = index % 100\n",
    "\n",
    "sex_asex_reproduction_ratio=par/10.0\n",
    "\n",
    "\n",
    "print (sex_asex_reproduction_ratio)\n",
    "N=20000   # population size\n",
    "\n",
    "\n",
    "name='WormsT100'\n",
    "loci=6   # number of loci\n",
    "\n",
    "\n",
    "dominance = 0  #0 for recessive, 1 for dominant, in between possible\n",
    "epistasis=0\n",
    "\n",
    "sub_name=name+'N'+str(N)+'L'+str(loci)+'E'+str(epistasis)+'X'+str(sex_asex_reproduction_ratio)+'D'+str(dominance)\n",
    "\n",
    "\n",
    "cost_vector=[0.05, 0.05,0.05,0.1,0.1,0.1]\n",
    "benefit_vector=[0.5,0.5,0.5,3,3,3]\n",
    "\n",
    "\n",
    "#-------------\n",
    "initial_male_fraction=0.5\n",
    "mutation_rate=0.0001  #carefull with this - this is per genome, not locus! Is divided by \n",
    "concentration_gradient=[0.0000,0.1,0.2,0.4,0.8,1,1.5,2,2.5,3,4,5,6,8,10,12,15, 18, 21, 24, 27, 30, 35, 40, 45,50,65,70]\n",
    "mean_selfing_offspring_num=300\n",
    "mean_sexrep_offspring_num=1000\n",
    "\n",
    "cycle_length=4\n",
    "cycle_number=len(concentration_gradient)\n",
    "\n",
    "increase_determinant=20  #how much do we need to increase pop size in order to procees. \n",
    "\n",
    "\n",
    "utility_function=wrm.Utility(loci, dominance, cost_vector,benefit_vector, max(concentration_gradient))\n"
   ]
  },
  {
   "cell_type": "code",
   "execution_count": 5,
   "metadata": {},
   "outputs": [
    {
     "name": "stdout",
     "output_type": "stream",
     "text": [
      "all done\n"
     ]
    }
   ],
   "source": [
    "wrm=reload(wrm)\n",
    "for i in range (1):\n",
    "    #print ('cycle', i)\n",
    "    this_name=sub_name+'_i'+str(i)\n",
    "    #print ('simuating experiment '+this_name)\n",
    "    worm_population=wrm.Worm_population_stochastic(N,loci=loci,cost_vector=cost_vector,benefit_vector=benefit_vector,dominance=dominance, mutation_rate=mutation_rate, initial_male_fraction=initial_male_fraction, mean_selfing_offspring_num=mean_selfing_offspring_num, mean_sexrep_offspring_num=mean_sexrep_offspring_num, sex_asex_reproduction_ratio=sex_asex_reproduction_ratio)\n",
    "    experiment=wrm.Experiment_stochastic(worm_population, concentration_gradient=concentration_gradient, cycle_length=cycle_length,  increase_determinant=increase_determinant)\n",
    "\n",
    "    experiment.run_Jacquelines_experiment(worm_population)\n",
    "\n",
    "    experiment.save_output(worm_population, name='DataArticle/'+this_name)\n",
    "\n",
    "    #experiment.plot_results(worm_population, name='Figures/'+this_name)\n",
    "\n",
    "utility_function.print_input_data(worm_population, experiment, name='DataArticle/InputData/'+sub_name)\n",
    "\n",
    "#print ('all done')"
   ]
  }
 ],
 "metadata": {
  "kernelspec": {
   "display_name": "Python 3 (ipykernel)",
   "language": "python",
   "name": "python3"
  },
  "language_info": {
   "codemirror_mode": {
    "name": "ipython",
    "version": 3
   },
   "file_extension": ".py",
   "mimetype": "text/x-python",
   "name": "python",
   "nbconvert_exporter": "python",
   "pygments_lexer": "ipython3",
   "version": "3.12.4"
  }
 },
 "nbformat": 4,
 "nbformat_minor": 4
}
